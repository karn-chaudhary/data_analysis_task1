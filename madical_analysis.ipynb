{
 "cells": [
  {
   "cell_type": "code",
   "execution_count": 2,
   "id": "56242f03-4fc6-433f-8273-7128243b0a28",
   "metadata": {},
   "outputs": [],
   "source": [
    "import pandas as pd"
   ]
  },
  {
   "cell_type": "code",
   "execution_count": 4,
   "id": "0a61238e-a5aa-40d0-80ae-0558fdd63dc6",
   "metadata": {},
   "outputs": [],
   "source": [
    "data1 = pd.read_csv(r\"C:\\Users\\HP\\Favorites\\Downloads\\KaggleV2-May-2016.csv\\KaggleV2-May-2016.csv\")"
   ]
  },
  {
   "cell_type": "code",
   "execution_count": 6,
   "id": "8cbbb1f6-b8fc-4541-9585-c693d67ca40e",
   "metadata": {},
   "outputs": [
    {
     "data": {
      "text/html": [
       "<div>\n",
       "<style scoped>\n",
       "    .dataframe tbody tr th:only-of-type {\n",
       "        vertical-align: middle;\n",
       "    }\n",
       "\n",
       "    .dataframe tbody tr th {\n",
       "        vertical-align: top;\n",
       "    }\n",
       "\n",
       "    .dataframe thead th {\n",
       "        text-align: right;\n",
       "    }\n",
       "</style>\n",
       "<table border=\"1\" class=\"dataframe\">\n",
       "  <thead>\n",
       "    <tr style=\"text-align: right;\">\n",
       "      <th></th>\n",
       "      <th>PatientId</th>\n",
       "      <th>AppointmentID</th>\n",
       "      <th>Gender</th>\n",
       "      <th>ScheduledDay</th>\n",
       "      <th>AppointmentDay</th>\n",
       "      <th>Age</th>\n",
       "      <th>Neighbourhood</th>\n",
       "      <th>Scholarship</th>\n",
       "      <th>Hipertension</th>\n",
       "      <th>Diabetes</th>\n",
       "      <th>Alcoholism</th>\n",
       "      <th>Handcap</th>\n",
       "      <th>SMS_received</th>\n",
       "      <th>No-show</th>\n",
       "    </tr>\n",
       "  </thead>\n",
       "  <tbody>\n",
       "    <tr>\n",
       "      <th>0</th>\n",
       "      <td>2.987250e+13</td>\n",
       "      <td>5642903</td>\n",
       "      <td>F</td>\n",
       "      <td>2016-04-29T18:38:08Z</td>\n",
       "      <td>2016-04-29T00:00:00Z</td>\n",
       "      <td>62</td>\n",
       "      <td>JARDIM DA PENHA</td>\n",
       "      <td>0</td>\n",
       "      <td>1</td>\n",
       "      <td>0</td>\n",
       "      <td>0</td>\n",
       "      <td>0</td>\n",
       "      <td>0</td>\n",
       "      <td>No</td>\n",
       "    </tr>\n",
       "    <tr>\n",
       "      <th>1</th>\n",
       "      <td>5.589978e+14</td>\n",
       "      <td>5642503</td>\n",
       "      <td>M</td>\n",
       "      <td>2016-04-29T16:08:27Z</td>\n",
       "      <td>2016-04-29T00:00:00Z</td>\n",
       "      <td>56</td>\n",
       "      <td>JARDIM DA PENHA</td>\n",
       "      <td>0</td>\n",
       "      <td>0</td>\n",
       "      <td>0</td>\n",
       "      <td>0</td>\n",
       "      <td>0</td>\n",
       "      <td>0</td>\n",
       "      <td>No</td>\n",
       "    </tr>\n",
       "    <tr>\n",
       "      <th>2</th>\n",
       "      <td>4.262962e+12</td>\n",
       "      <td>5642549</td>\n",
       "      <td>F</td>\n",
       "      <td>2016-04-29T16:19:04Z</td>\n",
       "      <td>2016-04-29T00:00:00Z</td>\n",
       "      <td>62</td>\n",
       "      <td>MATA DA PRAIA</td>\n",
       "      <td>0</td>\n",
       "      <td>0</td>\n",
       "      <td>0</td>\n",
       "      <td>0</td>\n",
       "      <td>0</td>\n",
       "      <td>0</td>\n",
       "      <td>No</td>\n",
       "    </tr>\n",
       "    <tr>\n",
       "      <th>3</th>\n",
       "      <td>8.679512e+11</td>\n",
       "      <td>5642828</td>\n",
       "      <td>F</td>\n",
       "      <td>2016-04-29T17:29:31Z</td>\n",
       "      <td>2016-04-29T00:00:00Z</td>\n",
       "      <td>8</td>\n",
       "      <td>PONTAL DE CAMBURI</td>\n",
       "      <td>0</td>\n",
       "      <td>0</td>\n",
       "      <td>0</td>\n",
       "      <td>0</td>\n",
       "      <td>0</td>\n",
       "      <td>0</td>\n",
       "      <td>No</td>\n",
       "    </tr>\n",
       "    <tr>\n",
       "      <th>4</th>\n",
       "      <td>8.841186e+12</td>\n",
       "      <td>5642494</td>\n",
       "      <td>F</td>\n",
       "      <td>2016-04-29T16:07:23Z</td>\n",
       "      <td>2016-04-29T00:00:00Z</td>\n",
       "      <td>56</td>\n",
       "      <td>JARDIM DA PENHA</td>\n",
       "      <td>0</td>\n",
       "      <td>1</td>\n",
       "      <td>1</td>\n",
       "      <td>0</td>\n",
       "      <td>0</td>\n",
       "      <td>0</td>\n",
       "      <td>No</td>\n",
       "    </tr>\n",
       "  </tbody>\n",
       "</table>\n",
       "</div>"
      ],
      "text/plain": [
       "      PatientId  AppointmentID Gender          ScheduledDay  \\\n",
       "0  2.987250e+13        5642903      F  2016-04-29T18:38:08Z   \n",
       "1  5.589978e+14        5642503      M  2016-04-29T16:08:27Z   \n",
       "2  4.262962e+12        5642549      F  2016-04-29T16:19:04Z   \n",
       "3  8.679512e+11        5642828      F  2016-04-29T17:29:31Z   \n",
       "4  8.841186e+12        5642494      F  2016-04-29T16:07:23Z   \n",
       "\n",
       "         AppointmentDay  Age      Neighbourhood  Scholarship  Hipertension  \\\n",
       "0  2016-04-29T00:00:00Z   62    JARDIM DA PENHA            0             1   \n",
       "1  2016-04-29T00:00:00Z   56    JARDIM DA PENHA            0             0   \n",
       "2  2016-04-29T00:00:00Z   62      MATA DA PRAIA            0             0   \n",
       "3  2016-04-29T00:00:00Z    8  PONTAL DE CAMBURI            0             0   \n",
       "4  2016-04-29T00:00:00Z   56    JARDIM DA PENHA            0             1   \n",
       "\n",
       "   Diabetes  Alcoholism  Handcap  SMS_received No-show  \n",
       "0         0           0        0             0      No  \n",
       "1         0           0        0             0      No  \n",
       "2         0           0        0             0      No  \n",
       "3         0           0        0             0      No  \n",
       "4         1           0        0             0      No  "
      ]
     },
     "execution_count": 6,
     "metadata": {},
     "output_type": "execute_result"
    }
   ],
   "source": [
    "data1.head()"
   ]
  },
  {
   "cell_type": "code",
   "execution_count": 8,
   "id": "de7235cb-dfa1-4e5e-8a61-c937d1066521",
   "metadata": {},
   "outputs": [
    {
     "data": {
      "text/plain": [
       "PatientId         0\n",
       "AppointmentID     0\n",
       "Gender            0\n",
       "ScheduledDay      0\n",
       "AppointmentDay    0\n",
       "Age               0\n",
       "Neighbourhood     0\n",
       "Scholarship       0\n",
       "Hipertension      0\n",
       "Diabetes          0\n",
       "Alcoholism        0\n",
       "Handcap           0\n",
       "SMS_received      0\n",
       "No-show           0\n",
       "dtype: int64"
      ]
     },
     "execution_count": 8,
     "metadata": {},
     "output_type": "execute_result"
    }
   ],
   "source": [
    "data1.isnull().sum()"
   ]
  },
  {
   "cell_type": "code",
   "execution_count": 25,
   "id": "f600089f-700d-4256-bd2e-b3478c76f121",
   "metadata": {},
   "outputs": [],
   "source": [
    "# Optionally fill or drop missing values\n",
    "data1.fillna(\"unknown\", inplace=True)\n"
   ]
  },
  {
   "cell_type": "code",
   "execution_count": 16,
   "id": "500c9489-0fc8-4727-bfc7-da962aba15e5",
   "metadata": {},
   "outputs": [
    {
     "name": "stdout",
     "output_type": "stream",
     "text": [
      "Empty DataFrame\n",
      "Columns: [PatientId, AppointmentID, Gender, ScheduledDay, AppointmentDay, Age, Neighbourhood, Scholarship, Hipertension, Diabetes, Alcoholism, Handcap, SMS_received, No-show]\n",
      "Index: []\n"
     ]
    }
   ],
   "source": [
    "duplicates = data1[data1.duplicated()]\n",
    "print(duplicates)\n"
   ]
  },
  {
   "cell_type": "code",
   "execution_count": 29,
   "id": "fc59fb33-5f49-4b83-a4df-148ea1cc6f13",
   "metadata": {},
   "outputs": [],
   "source": [
    "data1.drop_duplicates(inplace=True)"
   ]
  },
  {
   "cell_type": "code",
   "execution_count": 31,
   "id": "d6e7371a-281c-4b87-b2bb-55c418919f4e",
   "metadata": {},
   "outputs": [],
   "source": [
    "# 3. Standardize text values (Example: Gender and Neighbourhood if present)\n",
    "if 'Gender' in data1.columns:\n",
    "    data1['Gender'] = data1['Gender'].str.lower().map({\n",
    "        'male': 'male', 'm': 'male',\n",
    "        'female': 'female', 'f': 'female'\n",
    "    })\n",
    "\n",
    "if 'Neighbourhood' in data1.columns:\n",
    "    data1['Neighbourhood'] = data1['Neighbourhood'].str.lower().str.strip()"
   ]
  },
  {
   "cell_type": "code",
   "execution_count": 34,
   "id": "5f40e59f-ddc1-48de-b8d0-dc5f89bc87bf",
   "metadata": {},
   "outputs": [],
   "source": [
    "# 4. Convert date formats (for columns like 'AppointmentDay', 'ScheduledDay')\n",
    "for col in ['ScheduledDay', 'AppointmentDay']:\n",
    "    if col in data1.columns:\n",
    "        data1[col] = pd.to_datetime(data1[col], errors='coerce')\n"
   ]
  },
  {
   "cell_type": "code",
   "execution_count": 36,
   "id": "9086753a-ec96-4674-91ed-3a834a438f91",
   "metadata": {},
   "outputs": [],
   "source": [
    "# 5. Rename column headers to be clean and uniform\n",
    "data1.columns = data1.columns.str.lower().str.replace(' ', '_')"
   ]
  },
  {
   "cell_type": "code",
   "execution_count": 38,
   "id": "63c6b949-d7fa-45de-83a5-b0aaef95c235",
   "metadata": {},
   "outputs": [],
   "source": [
    "# 6. Check and fix data types (e.g., age as int)\n",
    "if 'age' in data1.columns:\n",
    "    data1['age'] = pd.to_numeric(data1['age'], errors='coerce').fillna(0).astype(int)\n"
   ]
  },
  {
   "cell_type": "code",
   "execution_count": 42,
   "id": "2d750906-358e-4be6-999e-e88b6756659f",
   "metadata": {},
   "outputs": [
    {
     "name": "stdout",
     "output_type": "stream",
     "text": [
      "patientid                     float64\n",
      "appointmentid                   int64\n",
      "gender                         object\n",
      "scheduledday      datetime64[ns, UTC]\n",
      "appointmentday    datetime64[ns, UTC]\n",
      "age                             int32\n",
      "neighbourhood                  object\n",
      "scholarship                     int64\n",
      "hipertension                    int64\n",
      "diabetes                        int64\n",
      "alcoholism                      int64\n",
      "handcap                         int64\n",
      "sms_received                    int64\n",
      "no-show                        object\n",
      "dtype: object\n",
      "      patientid  appointmentid gender              scheduledday  \\\n",
      "0  2.987250e+13        5642903    NaN 2016-04-29 18:38:08+00:00   \n",
      "1  5.589978e+14        5642503    NaN 2016-04-29 16:08:27+00:00   \n",
      "2  4.262962e+12        5642549    NaN 2016-04-29 16:19:04+00:00   \n",
      "3  8.679512e+11        5642828    NaN 2016-04-29 17:29:31+00:00   \n",
      "4  8.841186e+12        5642494    NaN 2016-04-29 16:07:23+00:00   \n",
      "\n",
      "             appointmentday  age      neighbourhood  scholarship  \\\n",
      "0 2016-04-29 00:00:00+00:00   62    jardim da penha            0   \n",
      "1 2016-04-29 00:00:00+00:00   56    jardim da penha            0   \n",
      "2 2016-04-29 00:00:00+00:00   62      mata da praia            0   \n",
      "3 2016-04-29 00:00:00+00:00    8  pontal de camburi            0   \n",
      "4 2016-04-29 00:00:00+00:00   56    jardim da penha            0   \n",
      "\n",
      "   hipertension  diabetes  alcoholism  handcap  sms_received no-show  \n",
      "0             1         0           0        0             0      No  \n",
      "1             0         0           0        0             0      No  \n",
      "2             0         0           0        0             0      No  \n",
      "3             0         0           0        0             0      No  \n",
      "4             1         1           0        0             0      No  \n"
     ]
    }
   ],
   "source": [
    "print(data1.dtypes)\n",
    "print(data1.head())"
   ]
  },
  {
   "cell_type": "code",
   "execution_count": null,
   "id": "cdc60b0c-76f7-4736-8db8-1dccc07ef5c7",
   "metadata": {},
   "outputs": [],
   "source": []
  }
 ],
 "metadata": {
  "kernelspec": {
   "display_name": "Python [conda env:base] *",
   "language": "python",
   "name": "conda-base-py"
  },
  "language_info": {
   "codemirror_mode": {
    "name": "ipython",
    "version": 3
   },
   "file_extension": ".py",
   "mimetype": "text/x-python",
   "name": "python",
   "nbconvert_exporter": "python",
   "pygments_lexer": "ipython3",
   "version": "3.12.7"
  }
 },
 "nbformat": 4,
 "nbformat_minor": 5
}
